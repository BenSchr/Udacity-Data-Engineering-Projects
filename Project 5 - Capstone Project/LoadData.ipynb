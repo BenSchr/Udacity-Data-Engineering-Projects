{
 "cells": [
  {
   "cell_type": "code",
   "execution_count": 1,
   "metadata": {},
   "outputs": [],
   "source": [
    "import configparser\n",
    "from datetime import datetime,timedelta\n",
    "import os\n",
    "from pyspark.sql import SparkSession\n",
    "import pyspark.sql.functions as F\n",
    "from pyspark.sql.types import *\n",
    "import sql_queries as sql\n",
    "import pandas as pd"
   ]
  },
  {
   "cell_type": "code",
   "execution_count": 2,
   "metadata": {},
   "outputs": [],
   "source": [
    "config = configparser.ConfigParser()\n",
    "config.read('aws.cfg')\n",
    "os.environ['AWS_ACCESS_KEY_ID']=config[\"CREDENTIALS\"]['AWS_ACCESS_KEY_ID']\n",
    "os.environ['AWS_SECRET_ACCESS_KEY']=config[\"CREDENTIALS\"]['AWS_SECRET_ACCESS_KEY']\n",
    "AWS_ACCESS_KEY=config[\"CREDENTIALS\"]['AWS_ACCESS_KEY_ID']\n",
    "AWS_SECRET_KEY=config[\"CREDENTIALS\"]['AWS_SECRET_ACCESS_KEY']"
   ]
  },
  {
   "cell_type": "code",
   "execution_count": 3,
   "metadata": {},
   "outputs": [],
   "source": [
    "spark = SparkSession.builder \\\n",
    "    .config(\"fs.s3a.awsAccessKeyId\", AWS_ACCESS_KEY)\\\n",
    "    .config(\"fs.s3a.awsSecretAccessKey\", AWS_SECRET_KEY)\\\n",
    "    .config(\"spark.jars.packages\", \"org.apache.hadoop:hadoop-aws:2.7.3,org.postgresql:postgresql:42.2.6\")\\\n",
    "    .getOrCreate()"
   ]
  },
  {
   "cell_type": "code",
   "execution_count": 4,
   "metadata": {},
   "outputs": [],
   "source": [
    "## Source: https://www1.nyc.gov/site/nypd/stats/crime-statistics/historical.page\n",
    "nycrime_df = spark.read.csv(\"s3a://udacity-cap-bs/NY_Crimes_2016.csv\",header=True)"
   ]
  },
  {
   "cell_type": "code",
   "execution_count": 5,
   "metadata": {},
   "outputs": [],
   "source": [
    "start=datetime.now()"
   ]
  },
  {
   "cell_type": "code",
   "execution_count": 6,
   "metadata": {},
   "outputs": [],
   "source": [
    "nycrime_df.repartition(10).write.parquet(os.path.join(\"data\", 'nycrime.parquet'), 'overwrite')"
   ]
  },
  {
   "cell_type": "code",
   "execution_count": 7,
   "metadata": {},
   "outputs": [
    {
     "name": "stdout",
     "output_type": "stream",
     "text": [
      "0:00:30.310535\n"
     ]
    }
   ],
   "source": [
    "print(datetime.now()-start)"
   ]
  },
  {
   "cell_type": "code",
   "execution_count": 8,
   "metadata": {},
   "outputs": [],
   "source": [
    "airbnb_df = spark.read.csv(\"s3a://udacity-cap-bs/AB_NYC_2019.csv\",header=True)"
   ]
  },
  {
   "cell_type": "code",
   "execution_count": 9,
   "metadata": {},
   "outputs": [],
   "source": [
    "airbnb_df.write.parquet(os.path.join(\"data\", 'airbnb.parquet'), 'overwrite')"
   ]
  },
  {
   "cell_type": "code",
   "execution_count": 10,
   "metadata": {},
   "outputs": [],
   "source": [
    "## Source: https://www.kaggle.com/mathijs/weather-data-in-new-york-city-2016\n",
    "clima_df = spark.read.csv(\"s3a://udacity-cap-bs/weather_data_nyc_centralpark_2016.csv\",header=True)"
   ]
  },
  {
   "cell_type": "code",
   "execution_count": 11,
   "metadata": {},
   "outputs": [],
   "source": [
    "for col in clima_df.columns:\n",
    "    clima_df = clima_df.withColumnRenamed(col, col.replace(\" \",\"\"))\n",
    "clima_df.write.parquet(os.path.join(\"data\", 'clima.parquet'), 'overwrite')"
   ]
  },
  {
   "cell_type": "code",
   "execution_count": null,
   "metadata": {},
   "outputs": [],
   "source": []
  }
 ],
 "metadata": {
  "kernelspec": {
   "display_name": "Python 3",
   "language": "python",
   "name": "python3"
  },
  "language_info": {
   "codemirror_mode": {
    "name": "ipython",
    "version": 3
   },
   "file_extension": ".py",
   "mimetype": "text/x-python",
   "name": "python",
   "nbconvert_exporter": "python",
   "pygments_lexer": "ipython3",
   "version": "3.6.3"
  }
 },
 "nbformat": 4,
 "nbformat_minor": 4
}
